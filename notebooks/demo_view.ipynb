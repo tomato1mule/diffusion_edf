{
 "cells": [
  {
   "cell_type": "code",
   "execution_count": null,
   "metadata": {},
   "outputs": [],
   "source": [
    "from edf_interface import data\n",
    "from edf_interface.data.dataset import load_demos\n",
    "from edf_interface.data import preprocess"
   ]
  },
  {
   "cell_type": "code",
   "execution_count": null,
   "metadata": {},
   "outputs": [],
   "source": [
    "episodes = load_demos('demo/example_demo_real_mug_franka_panda/')\n",
    "# episodes = load_demos('demo/panda_bottle_on_shelf/')\n",
    "# episodes = load_demos('demo/panda_bottle_on_shelf/')"
   ]
  },
  {
   "cell_type": "code",
   "execution_count": null,
   "metadata": {},
   "outputs": [],
   "source": [
    "episode_idx = 2\n",
    "episode: data.DemoSequence = episodes[episode_idx]\n",
    "pick_demo: data.TargetPoseDemo = episode[0]\n",
    "try:\n",
    "    place_demo: data.TargetPoseDemo = episode[1]\n",
    "except IndexError:\n",
    "    place_demo = None"
   ]
  },
  {
   "cell_type": "code",
   "execution_count": null,
   "metadata": {},
   "outputs": [],
   "source": [
    "pick_vis = preprocess.crop_bbox(pick_demo, bbox=[[-0.4, 0.4], [-0.8, 0.8], [0.5, 1.3]], targets=['scene_pcd'])\n",
    "pick_vis = preprocess.downsample(pick_vis, voxel_size=0.01, coord_reduction='average')\n",
    "\n",
    "if place_demo is not None:\n",
    "    place_vis = preprocess.crop_bbox(place_demo, bbox=[[-0.4, 0.4], [-0.8, 0.8], [0.5, 1.3]], targets=['scene_pcd'])\n",
    "    place_vis = preprocess.downsample(place_vis, voxel_size=0.01, coord_reduction='average')"
   ]
  },
  {
   "cell_type": "code",
   "execution_count": null,
   "metadata": {},
   "outputs": [],
   "source": [
    "pick_vis.show()"
   ]
  },
  {
   "cell_type": "code",
   "execution_count": null,
   "metadata": {},
   "outputs": [],
   "source": [
    "place_vis.show()"
   ]
  },
  {
   "cell_type": "code",
   "execution_count": null,
   "metadata": {},
   "outputs": [],
   "source": []
  }
 ],
 "metadata": {
  "kernelspec": {
   "display_name": "diff_edf",
   "language": "python",
   "name": "python3"
  },
  "language_info": {
   "codemirror_mode": {
    "name": "ipython",
    "version": 3
   },
   "file_extension": ".py",
   "mimetype": "text/x-python",
   "name": "python",
   "nbconvert_exporter": "python",
   "pygments_lexer": "ipython3",
   "version": "3.8.16"
  },
  "orig_nbformat": 4
 },
 "nbformat": 4,
 "nbformat_minor": 2
}
