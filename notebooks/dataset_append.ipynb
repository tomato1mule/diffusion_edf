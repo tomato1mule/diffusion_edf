{
 "cells": [
  {
   "cell_type": "code",
   "execution_count": null,
   "metadata": {},
   "outputs": [],
   "source": [
    "import os\n",
    "from edf_interface import data"
   ]
  },
  {
   "cell_type": "code",
   "execution_count": null,
   "metadata": {},
   "outputs": [],
   "source": [
    "dataset_to_append = \"<PICK DEMO DIR>\"\n",
    "dataset_to_append = data.DemoDataset(dataset_to_append).data"
   ]
  },
  {
   "cell_type": "code",
   "execution_count": null,
   "metadata": {},
   "outputs": [],
   "source": [
    "root_dir = \"<PLACE DEMO DIR>\"\n",
    "paths = sorted(os.listdir(root_dir))\n",
    "\n",
    "for path, demo_seq_to_append in zip(paths,dataset_to_append):\n",
    "    path = os.path.join(root_dir, path)\n",
    "    demo = data.TargetPoseDemo.load(path)\n",
    "    demo.name = \"place\"\n",
    "    demo_seq_to_append.data_seq.append(demo)"
   ]
  },
  {
   "cell_type": "code",
   "execution_count": null,
   "metadata": {},
   "outputs": [],
   "source": [
    "data.dataset.save_demos(demos=dataset_to_append, dir=\"output\")"
   ]
  },
  {
   "cell_type": "code",
   "execution_count": null,
   "metadata": {},
   "outputs": [],
   "source": []
  }
 ],
 "metadata": {
  "kernelspec": {
   "display_name": "diff_edf",
   "language": "python",
   "name": "python3"
  },
  "language_info": {
   "codemirror_mode": {
    "name": "ipython",
    "version": 3
   },
   "file_extension": ".py",
   "mimetype": "text/x-python",
   "name": "python",
   "nbconvert_exporter": "python",
   "pygments_lexer": "ipython3",
   "version": "3.8.16"
  },
  "orig_nbformat": 4
 },
 "nbformat": 4,
 "nbformat_minor": 2
}
