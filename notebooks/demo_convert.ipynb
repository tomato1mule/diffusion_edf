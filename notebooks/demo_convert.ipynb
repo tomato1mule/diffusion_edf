{
 "cells": [
  {
   "cell_type": "code",
   "execution_count": null,
   "metadata": {},
   "outputs": [],
   "source": [
    "import os\n",
    "from edf_interface import data"
   ]
  },
  {
   "cell_type": "code",
   "execution_count": null,
   "metadata": {},
   "outputs": [],
   "source": [
    "root_dir = \"<DIR_TO_DEMO_DIRECTORY>\"\n",
    "paths = sorted(os.listdir(root_dir))\n",
    "\n",
    "demos = []\n",
    "for path in paths:\n",
    "    path = os.path.join(root_dir, path)\n",
    "    demo = data.TargetPoseDemo.load(path)\n",
    "    demo.name = \"pick\"\n",
    "    demo = data.DemoSequence(data_seq=[demo,], name=\"\")\n",
    "    demos.append(demo)\n",
    "data.dataset.save_demos(demos=demos, dir=\"output\")"
   ]
  },
  {
   "cell_type": "code",
   "execution_count": null,
   "metadata": {},
   "outputs": [],
   "source": []
  },
  {
   "cell_type": "code",
   "execution_count": null,
   "metadata": {},
   "outputs": [],
   "source": []
  }
 ],
 "metadata": {
  "kernelspec": {
   "display_name": "diff_edf",
   "language": "python",
   "name": "python3"
  },
  "language_info": {
   "codemirror_mode": {
    "name": "ipython",
    "version": 3
   },
   "file_extension": ".py",
   "mimetype": "text/x-python",
   "name": "python",
   "nbconvert_exporter": "python",
   "pygments_lexer": "ipython3",
   "version": "3.8.16"
  },
  "orig_nbformat": 4
 },
 "nbformat": 4,
 "nbformat_minor": 2
}
