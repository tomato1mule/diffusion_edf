{
 "cells": [
  {
   "cell_type": "code",
   "execution_count": 1,
   "metadata": {},
   "outputs": [],
   "source": [
    "from tqdm import tqdm\n",
    "from typing import Optional, Tuple\n",
    "import math\n",
    "from matplotlib import pyplot as plt\n",
    "\n",
    "import torch\n",
    "from e3nn import o3\n",
    "\n",
    "from diffusion_edf.layers import EquivariantLayerNorm\n",
    "from diffusion_edf.equiformer.layer_norm import EquivariantLayerNormV2\n",
    "from diffusion_edf.equiformer.fast_layer_norm import EquivariantLayerNormFast\n",
    "from diffusion_edf.connectivity import RadiusConnect\n",
    "from diffusion_edf.radial_func import soft_cutoff, BesselBasisEncoder, soft_square_cutoff_2"
   ]
  },
  {
   "cell_type": "code",
   "execution_count": 2,
   "metadata": {},
   "outputs": [
    {
     "name": "stderr",
     "output_type": "stream",
     "text": [
      "100%|██████████| 100/100 [00:00<00:00, 257.39it/s]\n",
      "  0%|          | 0/100 [00:00<?, ?it/s]/home/hw/anaconda3/envs/diff_edf/lib/python3.8/site-packages/torch/nn/modules/module.py:1194: UserWarning: operator() profile_node %198 : int[] = prim::profile_ivalue(%196)\n",
      " does not have profile information (Triggered internally at ../torch/csrc/jit/codegen/cuda/graph_fuser.cpp:105.)\n",
      "  return forward_call(*input, **kwargs)\n",
      "100%|██████████| 100/100 [00:00<00:00, 112.72it/s]\n",
      "100%|██████████| 100/100 [00:00<00:00, 10709.32it/s]\n"
     ]
    }
   ],
   "source": [
    "device = 'cuda:0'\n",
    "irreps = o3.Irreps('128x0e+64x1e+32x2e')\n",
    "f1 = EquivariantLayerNorm(irreps=irreps).to(device)\n",
    "f2 = EquivariantLayerNormV2(irreps=irreps).to(device)\n",
    "f3 = EquivariantLayerNormFast(irreps=irreps).to(device)\n",
    "f1 = torch.jit.script(f1)\n",
    "f2 = torch.jit.script(f2)\n",
    "# f3 = torch.jit.script(f3)\n",
    "\n",
    "with torch.no_grad():\n",
    "    for _ in tqdm(range(100)):\n",
    "        x = irreps.randn(10,-1, device=device)\n",
    "        y = f1(x)\n",
    "\n",
    "    for _ in tqdm(range(100)):\n",
    "        x = irreps.randn(10,-1, device=device)\n",
    "        y = f2(x)\n",
    "\n",
    "    for _ in tqdm(range(100)):\n",
    "        x = irreps.randn(10,-1, device=device)\n",
    "        y = f3(x)"
   ]
  },
  {
   "cell_type": "code",
   "execution_count": 3,
   "metadata": {},
   "outputs": [
    {
     "name": "stderr",
     "output_type": "stream",
     "text": [
      "100%|██████████| 10000/10000 [00:02<00:00, 4230.39it/s]\n"
     ]
    }
   ],
   "source": [
    "x = irreps.randn(100,-1, device=device)\n",
    "with torch.no_grad():\n",
    "    for _ in tqdm(range(10000)):\n",
    "        y = f1(x)"
   ]
  },
  {
   "cell_type": "code",
   "execution_count": 6,
   "metadata": {},
   "outputs": [
    {
     "name": "stderr",
     "output_type": "stream",
     "text": [
      "100%|██████████| 40000/40000 [00:03<00:00, 12531.38it/s]\n"
     ]
    }
   ],
   "source": [
    "x = irreps.randn(100,-1, device=device)\n",
    "with torch.no_grad():\n",
    "    for _ in tqdm(range(40000)):\n",
    "        y = f2(x)"
   ]
  },
  {
   "cell_type": "code",
   "execution_count": 5,
   "metadata": {},
   "outputs": [
    {
     "name": "stderr",
     "output_type": "stream",
     "text": [
      "100%|██████████| 40000/40000 [00:03<00:00, 12597.24it/s]\n"
     ]
    }
   ],
   "source": [
    "x = irreps.randn(100,-1, device=device)\n",
    "with torch.no_grad():\n",
    "    for _ in tqdm(range(40000)):\n",
    "        y = f3(x)"
   ]
  },
  {
   "cell_type": "code",
   "execution_count": null,
   "metadata": {},
   "outputs": [],
   "source": []
  }
 ],
 "metadata": {
  "kernelspec": {
   "display_name": "diff_edf",
   "language": "python",
   "name": "python3"
  },
  "language_info": {
   "codemirror_mode": {
    "name": "ipython",
    "version": 3
   },
   "file_extension": ".py",
   "mimetype": "text/x-python",
   "name": "python",
   "nbconvert_exporter": "python",
   "pygments_lexer": "ipython3",
   "version": "3.8.16 | packaged by conda-forge | (default, Feb  1 2023, 16:01:55) \n[GCC 11.3.0]"
  },
  "orig_nbformat": 4,
  "vscode": {
   "interpreter": {
    "hash": "79a0085b6cf04e1cff261ad12d41cff4e1530d9e68d1f8fc6bd159a2915452c6"
   }
  }
 },
 "nbformat": 4,
 "nbformat_minor": 2
}
