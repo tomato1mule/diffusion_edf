{
 "cells": [
  {
   "cell_type": "code",
   "execution_count": null,
   "metadata": {},
   "outputs": [],
   "source": [
    "import os\n",
    "os.environ[\"PYTORCH_JIT_USE_NNC_NOT_NVFUSER\"] = \"1\"\n",
    "from typing import List, Tuple, Optional, Union, Iterable\n",
    "import warnings\n",
    "import math\n",
    "\n",
    "from beartype import beartype\n",
    "import datetime\n",
    "import plotly.graph_objects as go\n",
    "from tqdm import tqdm\n",
    "import yaml\n",
    "\n",
    "import torch\n",
    "from torch.utils.data import DataLoader\n",
    "from torchvision.transforms import Compose\n",
    "from e3nn import o3\n",
    "\n",
    "from edf_interface.data import PointCloud, SE3, DemoDataset, TargetPoseDemo\n",
    "from edf_interface.utils import manipulation_utils\n",
    "from diffusion_edf.gnn_data import FeaturedPoints\n",
    "from diffusion_edf import train_utils\n",
    "from diffusion_edf.trainer import DiffusionEdfTrainer\n",
    "from diffusion_edf.visualize import visualize_pose\n",
    "from diffusion_edf.agent import DiffusionEdfAgent\n",
    "\n",
    "torch.set_printoptions(precision=4, sci_mode=False)"
   ]
  },
  {
   "cell_type": "code",
   "execution_count": null,
   "metadata": {},
   "outputs": [],
   "source": [
    "# !!!!!!!!!!!!!!!!!!!!!!!!!!!!!!!!!!!!!!!!!!!!!!!!!!!!!!!!!!!!!!!!!!!!!!!!!!!!!!!!!!!!!!!!!!!!!!!!\n",
    "# COPY AND PASTE THE NOTEBOOK TO PROJECT ROOT DIR (WITH 'config' AND 'demo' DIR) BEFORE RUNNING IT\n",
    "# !!!!!!!!!!!!!!!!!!!!!!!!!!!!!!!!!!!!!!!!!!!!!!!!!!!!!!!!!!!!!!!!!!!!!!!!!!!!!!!!!!!!!!!!!!!!!!!!\n",
    "\n",
    "device = 'cuda:0'\n",
    "task_type = 'pick'\n",
    "config_root_dir = 'configs/panda_bowl'\n",
    "testset = DemoDataset(dataset_dir='demo/panda_bowl_on_a_dish_test')"
   ]
  },
  {
   "cell_type": "code",
   "execution_count": null,
   "metadata": {},
   "outputs": [],
   "source": [
    "with open(os.path.join(config_root_dir, 'agent.yaml')) as f:\n",
    "    model_kwargs = yaml.load(f, Loader=yaml.FullLoader)\n",
    "    model_kwargs_list = model_kwargs['model_kwargs'][f\"{task_type}_models_kwargs\"]\n",
    "    # critic_kwargs = model_kwargs['model_kwargs'][f\"{task_type}_critic_kwargs\"]\n",
    "    critic_kwargs = None\n",
    "\n",
    "with open(os.path.join(config_root_dir, 'preprocess.yaml')) as f:\n",
    "    preprocess_config = yaml.load(f, Loader=yaml.FullLoader)\n",
    "    unprocess_config = preprocess_config['unprocess_config']\n",
    "    preprocess_config = preprocess_config['preprocess_config']\n",
    "\n",
    "agent = DiffusionEdfAgent(\n",
    "    model_kwargs_list=model_kwargs_list,\n",
    "    preprocess_config=preprocess_config,\n",
    "    unprocess_config=unprocess_config,\n",
    "    device=device,\n",
    "    critic_kwargs=critic_kwargs\n",
    ") # Model initialization and warm-up takes 2~3 minutes (very slow due to e3nn codegen and torch jit)."
   ]
  },
  {
   "attachments": {},
   "cell_type": "markdown",
   "metadata": {},
   "source": [
    "# Initialize Input Data and Initial Pose"
   ]
  },
  {
   "cell_type": "code",
   "execution_count": null,
   "metadata": {},
   "outputs": [],
   "source": [
    "demo_idx = 2\n",
    "demo: TargetPoseDemo = testset[demo_idx][0 if task_type == 'pick' else 1 if task_type == 'place' else \"task_type must be either 'pick' or 'place'\"].to(device)\n",
    "scene_pcd: PointCloud = demo.scene_pcd\n",
    "grasp_pcd: PointCloud = demo.grasp_pcd"
   ]
  },
  {
   "cell_type": "code",
   "execution_count": null,
   "metadata": {},
   "outputs": [],
   "source": [
    "N_samples = 100 # reduce number of samples if too slow\n",
    "T0 = torch.cat([\n",
    "    torch.tensor([[1., 0., 0.0, 0.]], device=device),\n",
    "    torch.tensor([[0., 0., 0.3]], device=device)\n",
    "], dim=-1).repeat(N_samples, 1)\n",
    "Ts_init = SE3(poses=T0).to(device)\n",
    "\n",
    "\n",
    "Ts_out_raw, scene_proc, grasp_proc, info = agent.sample(scene_pcd=scene_pcd, grasp_pcd=grasp_pcd, Ts_init=Ts_init,\n",
    "                                                        N_steps_list = [[200, 200], [200, 200]],\n",
    "                                                        timesteps_list = [[0.04, 0.04], [0.02, 0.02]],\n",
    "                                                        temperatures_list = [[1., 1.], [1., 1.]],\n",
    "                                                        log_t_schedule = True,\n",
    "                                                        diffusion_schedules_list = [\n",
    "                                                            [[1., 0.1], [0.1, 0.1]],\n",
    "                                                            [[0.1, 0.03], [0.03, 0.01] ],\n",
    "                                                        ],\n",
    "                                                        time_exponent_temp = 1.0,\n",
    "                                                        time_exponent_alpha = 0.5,\n",
    "                                                        return_info=True)\n",
    "\n",
    "Ts_out = Ts_out_raw\n",
    "# Ts_out, energy = Ts_out_raw, info['energy']\n",
    "# Ts_out, energy = manipulation_utils.remove_outliers(Ts_out_raw.permute(1,0,2), critic=info['energy'])\n",
    "# Ts_out = torch.stack(Ts_out, dim=0).permute(1,0,2)"
   ]
  },
  {
   "cell_type": "code",
   "execution_count": null,
   "metadata": {},
   "outputs": [],
   "source": [
    "# sample_idx = 0\n",
    "# visualization = TargetPoseDemo(\n",
    "#     target_poses=SE3(poses=torch.cat([Ts_out[::10, sample_idx], Ts_out[-1:, sample_idx]], dim=0)),\n",
    "#     scene_pcd=scene_proc,\n",
    "#     grasp_pcd=grasp_proc\n",
    "# )\n",
    "# visualization = agent.unprocess_fn(visualization).to('cpu')\n",
    "# visualization.show(bg_color=[0.3, 0.3, 0.3], width = 1200, height=1200, point_size=4.5)"
   ]
  },
  {
   "cell_type": "code",
   "execution_count": null,
   "metadata": {},
   "outputs": [],
   "source": [
    "visualization = TargetPoseDemo(\n",
    "    target_poses=SE3(poses=Ts_out[-1]),\n",
    "    scene_pcd=scene_proc,\n",
    "    grasp_pcd=grasp_proc\n",
    ")\n",
    "visualization = agent.unprocess_fn(visualization).to('cpu')\n",
    "visualization.show(bg_color=[0.3, 0.3, 0.3], width = 800, height=800, point_size=4.5)"
   ]
  },
  {
   "cell_type": "code",
   "execution_count": null,
   "metadata": {},
   "outputs": [],
   "source": []
  }
 ],
 "metadata": {
  "kernelspec": {
   "display_name": "diff_edf",
   "language": "python",
   "name": "python3"
  },
  "language_info": {
   "codemirror_mode": {
    "name": "ipython",
    "version": 3
   },
   "file_extension": ".py",
   "mimetype": "text/x-python",
   "name": "python",
   "nbconvert_exporter": "python",
   "pygments_lexer": "ipython3",
   "version": "3.8.16"
  },
  "orig_nbformat": 4,
  "vscode": {
   "interpreter": {
    "hash": "79a0085b6cf04e1cff261ad12d41cff4e1530d9e68d1f8fc6bd159a2915452c6"
   }
  }
 },
 "nbformat": 4,
 "nbformat_minor": 2
}
